{
 "cells": [
  {
   "cell_type": "code",
   "execution_count": 2,
   "metadata": {},
   "outputs": [],
   "source": [
    "from __future__ import print_function\n",
    "import re"
   ]
  },
  {
   "cell_type": "code",
   "execution_count": 3,
   "metadata": {},
   "outputs": [],
   "source": [
    "# file = open(\"test.txt\", \"r\")\n",
    "file = open(\"A2.txt\", \"r\")\n",
    "rawText = file.read()"
   ]
  },
  {
   "cell_type": "code",
   "execution_count": 4,
   "metadata": {},
   "outputs": [
    {
     "name": "stdout",
     "output_type": "stream",
     "text": [
      "Syme looked straight into his eyes and smiled sweetly.</s>\n",
      "\n",
      "<s>'I beg your pardon,' said Syme grimly, 'I forgot we had abolished all conventions.'</s>\n",
      "\n",
      "<s>'Excuse me if I enjoy myself rather obviously!' he said to Gregory, smiling.</s>\n",
      "\n",
      "<s>'The celebrated Mr.</s> <s>Syme, I presume.'</s> <s>He will say in the most exquisite French, 'How are you?'</s>\n",
      "\n",
      "<s>Syme will be joining M.B.A. course in the next summer. \n",
      "\n"
     ]
    }
   ],
   "source": [
    "p = re.compile(r\"(?<=[.?!'\\n])(\\s+)(?=[A-Z'])\")\n",
    "ansText = p.sub('</s>\\\\1<s>', rawText)\n",
    "print(ansText)"
   ]
  },
  {
   "cell_type": "code",
   "execution_count": null,
   "metadata": {
    "collapsed": true
   },
   "outputs": [],
   "source": []
  }
 ],
 "metadata": {
  "kernelspec": {
   "display_name": "Python 3",
   "language": "python",
   "name": "python3"
  },
  "language_info": {
   "codemirror_mode": {
    "name": "ipython",
    "version": 3
   },
   "file_extension": ".py",
   "mimetype": "text/x-python",
   "name": "python",
   "nbconvert_exporter": "python",
   "pygments_lexer": "ipython3",
   "version": "3.6.4"
  }
 },
 "nbformat": 4,
 "nbformat_minor": 2
}
