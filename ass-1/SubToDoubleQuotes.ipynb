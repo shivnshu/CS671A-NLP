{
 "cells": [
  {
   "cell_type": "code",
   "execution_count": 168,
   "metadata": {
    "collapsed": true
   },
   "outputs": [],
   "source": [
    "from __future__ import print_function\n",
    "import re"
   ]
  },
  {
   "cell_type": "code",
   "execution_count": 169,
   "metadata": {
    "collapsed": true
   },
   "outputs": [],
   "source": [
    "file = open(\"fullTest.txt\", \"r\")\n",
    "rawText = file.read()"
   ]
  },
  {
   "cell_type": "raw",
   "metadata": {},
   "source": [
    "p = re.compile(r\"'\")\n",
    "#p.findall(rawText)\n",
    "(modText, numRepla) = p.subn('\"', rawText)\n",
    "# print(modText, numRepla)"
   ]
  },
  {
   "cell_type": "raw",
   "metadata": {
    "collapsed": true
   },
   "source": [
    "def replace(match):\n",
    "    if match.group('quote') not in [None, '']:\n",
    "        \n",
    "        start_all = match.start()\n",
    "        start = match.start('quote')\n",
    "        end = match.end('quote')\n",
    "        end_all = match.end()\n",
    "        #print(match, start_all, start, end, end_all)\n",
    "        #print(match.group()[0:start-start_all] + \"'\" + match.group()[end-start_all:end_all-start_all])\n",
    "        return match.group()[0:start-start_all] + \"'\" + match.group()[end-start_all:end_all-start_all]\n",
    "    \n",
    "p = re.compile(r'\\w+(?P<quote>\")\\w+')\n",
    "p.findall(modText)\n",
    "(ansText1, numFinalRepla1) = p.subn(replace, modText)"
   ]
  },
  {
   "cell_type": "raw",
   "metadata": {
    "scrolled": true
   },
   "source": [
    "p = re.compile(r'(?P<quote>\")[\\w]+[\\w\\s]*\"')\n",
    "(ansText2, numFinalRepla2) = p.subn(replace, ansText1)\n",
    "p = re.compile(r'[\\w]+(?P<quote>\")')\n",
    "(ansText, numFinalRepla3) = p.subn(replace, ansText2)\n",
    "print(ansText, numRepla-numFinalRepla1-numFinalRepla2-numFinalRepla3)"
   ]
  },
  {
   "cell_type": "code",
   "execution_count": 171,
   "metadata": {},
   "outputs": [],
   "source": [
    "p = re.compile(r\"(?<=[.?!'\\n])(\\s+)(?=[A-Z'])\")\n",
    "ansText = p.sub('</s>\\\\1<s>', rawText)\n",
    "# print(ansText)"
   ]
  },
  {
   "cell_type": "code",
   "execution_count": 211,
   "metadata": {},
   "outputs": [],
   "source": [
    "dataset = []\n",
    "labels = []\n",
    "num_context = 11\n",
    "dictionary = ['.', ',', ';', '!', '?', '\\w', '\\s', '\\'', '[', ']', '-']\n",
    "punctuations = \".?!\"\n",
    "tags = [\"<s>\", \"</s>\"]\n",
    "\n",
    "def check_tag(text, index):\n",
    "    if (index < 0):\n",
    "        return -1\n",
    "    if (index+4 < len(text) and text[index:index+4] in tags):\n",
    "        return 1\n",
    "    if (index+3 < len(text) and text[index:index+3] in tags):\n",
    "        return 0\n",
    "    return -1\n",
    "\n",
    "def encoding(c):\n",
    "    l = [0]*len(dictionary)\n",
    "    for i in range(len(dictionary)):\n",
    "        if dictionary[i] == c:\n",
    "            l[i] = 1\n",
    "            return l\n",
    "    if c.isalpha():\n",
    "        l[dictionary.index('\\w')] = 1\n",
    "    elif c.isspace():\n",
    "        l[dictionary.index('\\s')] = 1\n",
    "    return l\n",
    "\n",
    "for i in range(len(ansText)-3):\n",
    "    if ansText[i] in punctuations:\n",
    "        data = [[]]*num_context\n",
    "        index = num_context//2\n",
    "        data[index] = encoding(ansText[i])\n",
    "#         print(ansText[i])\n",
    "        index -= 1\n",
    "        j = i - 1\n",
    "        \n",
    "        while index >= 0 and j >= 0:\n",
    "            if check_tag(ansText, j-2) == 0:\n",
    "                j -= 3\n",
    "                continue\n",
    "            if check_tag(ansText, j-3) == 1:\n",
    "                j -= 4\n",
    "                continue\n",
    "            data[index] = encoding(ansText[j])\n",
    "            index -= 1\n",
    "            j -= 1\n",
    "                \n",
    "        index = num_context//2 + 1\n",
    "        j = i + 1\n",
    "        while index < num_context and j < len(ansText):\n",
    "            if (check_tag(ansText, j) == -1):\n",
    "                data[index] = encoding(ansText[j])\n",
    "                index += 1\n",
    "                j += 1\n",
    "            else:\n",
    "                j += len(tags[check_tag(ansText, j)])\n",
    "                \n",
    "        if ansText[i+1:i+3] == \"</\":\n",
    "            labels.append(1)\n",
    "        else:\n",
    "            labels.append(0)\n",
    "        dataset.append([item for sublist in data for item in sublist])\n",
    "        \n",
    "        \n",
    "# print(sum(labels))\n",
    "# print(dataset,labels)\n",
    "# for i in range(len(labels)):\n",
    "#     if labels[i] == 0:\n",
    "#         print(dataset[i])\n",
    "#         print('\\n')"
   ]
  },
  {
   "cell_type": "code",
   "execution_count": 217,
   "metadata": {
    "collapsed": true
   },
   "outputs": [],
   "source": [
    "inputs = []\n",
    "for i in range(len(dataset)):\n",
    "    inputs_tmp = [0]*num_context*len(dictionary)\n",
    "    for j in range(len(dataset[i])):\n",
    "        inputs_tmp[j] = (dataset[i][j])\n",
    "    inputs.append(inputs_tmp)\n",
    "dataset = inputs\n",
    "l = int(0.9*len(dataset))\n",
    "dataset_train = dataset[:l]\n",
    "dataset_test = dataset[l:]\n",
    "\n",
    "labels_train = labels[:l]\n",
    "labels_test = labels[l:]"
   ]
  },
  {
   "cell_type": "code",
   "execution_count": 218,
   "metadata": {},
   "outputs": [],
   "source": [
    "from sklearn import linear_model\n",
    "reg = linear_model.LinearRegression()"
   ]
  },
  {
   "cell_type": "code",
   "execution_count": 219,
   "metadata": {},
   "outputs": [
    {
     "data": {
      "text/plain": [
       "LinearRegression(copy_X=True, fit_intercept=True, n_jobs=1, normalize=False)"
      ]
     },
     "execution_count": 219,
     "metadata": {},
     "output_type": "execute_result"
    }
   ],
   "source": [
    "# print(dataset)\n",
    "reg.fit(dataset_train, labels_train)\n",
    "# reg.fit ([[0, 0], [1, 1], [2, 2]], [0, 1, 2])"
   ]
  },
  {
   "cell_type": "code",
   "execution_count": 220,
   "metadata": {},
   "outputs": [],
   "source": [
    "predicted_labels = reg.predict(dataset_test)"
   ]
  },
  {
   "cell_type": "code",
   "execution_count": 221,
   "metadata": {},
   "outputs": [
    {
     "name": "stdout",
     "output_type": "stream",
     "text": [
      "Accuracy: 99.66\n"
     ]
    }
   ],
   "source": [
    "for i in range(len(predicted_labels)):\n",
    "    if predicted_labels[i] > 0.5:\n",
    "        predicted_labels[i] = 1\n",
    "    else:\n",
    "        predicted_labels[i] = 0\n",
    "# print(sum(labels_test))\n",
    "# print(predicted_labels - labels_test)\n",
    "errors = 0\n",
    "for i in range(len(predicted_labels)):\n",
    "    errors += abs(predicted_labels[i] - labels_test[i])\n",
    "print(\"Accuracy: %.2f\" % ((sum(labels_test) - errors)*100/sum(labels_test)))"
   ]
  },
  {
   "cell_type": "code",
   "execution_count": null,
   "metadata": {
    "collapsed": true
   },
   "outputs": [],
   "source": []
  }
 ],
 "metadata": {
  "kernelspec": {
   "display_name": "Python 3",
   "language": "python",
   "name": "python3"
  },
  "language_info": {
   "codemirror_mode": {
    "name": "ipython",
    "version": 3
   },
   "file_extension": ".py",
   "mimetype": "text/x-python",
   "name": "python",
   "nbconvert_exporter": "python",
   "pygments_lexer": "ipython3",
   "version": "3.6.4"
  }
 },
 "nbformat": 4,
 "nbformat_minor": 2
}
