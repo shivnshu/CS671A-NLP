{
 "cells": [
  {
   "cell_type": "raw",
   "metadata": {
    "collapsed": true
   },
   "source": [
    "from __future__ import print_function\n",
    "import re"
   ]
  },
  {
   "cell_type": "raw",
   "metadata": {
    "collapsed": true
   },
   "source": [
    "file = open(\"test.txt\", \"r\")\n",
    "rawText = file.read()"
   ]
  },
  {
   "cell_type": "raw",
   "metadata": {},
   "source": [
    "# rawText"
   ]
  },
  {
   "cell_type": "raw",
   "metadata": {},
   "source": [
    "p = re.compile(r\"'\")\n",
    "#p.findall(rawText)\n",
    "(modText, numRepla) = p.subn('\"', rawText)\n",
    "# print(modText, numRepla)"
   ]
  },
  {
   "cell_type": "raw",
   "metadata": {
    "collapsed": true
   },
   "source": [
    "def replace(match):\n",
    "    if match.group('quote') not in [None, '']:\n",
    "        \n",
    "        start_all = match.start()\n",
    "        start = match.start('quote')\n",
    "        end = match.end('quote')\n",
    "        end_all = match.end()\n",
    "        #print(match, start_all, start, end, end_all)\n",
    "        #print(match.group()[0:start-start_all] + \"'\" + match.group()[end-start_all:end_all-start_all])\n",
    "        return match.group()[0:start-start_all] + \"'\" + match.group()[end-start_all:end_all-start_all]\n",
    "    \n",
    "p = re.compile(r'\\w+(?P<quote>\")\\w+')\n",
    "p.findall(modText)\n",
    "(ansText1, numFinalRepla1) = p.subn(replace, modText)"
   ]
  },
  {
   "cell_type": "raw",
   "metadata": {
    "scrolled": true
   },
   "source": [
    "p = re.compile(r'(?P<quote>\")[\\w]+[\\w\\s]*\"')\n",
    "(ansText2, numFinalRepla2) = p.subn(replace, ansText1)\n",
    "p = re.compile(r'[\\w]+(?P<quote>\")')\n",
    "(ansText, numFinalRepla3) = p.subn(replace, ansText2)\n",
    "print(ansText, numRepla-numFinalRepla1-numFinalRepla2-numFinalRepla3)"
   ]
  },
  {
   "cell_type": "raw",
   "metadata": {
    "collapsed": true
   },
   "source": [
    "p = re.compile(r\"(?<=[.?!'\\n])(\\s+)(?=[A-Z'])\")\n",
    "ansText = p.sub('</s>\\\\1<s>', rawText)\n",
    "print(ansText)"
   ]
  },
  {
   "cell_type": "code",
   "execution_count": null,
   "metadata": {
    "collapsed": true
   },
   "outputs": [],
   "source": []
  }
 ],
 "metadata": {
  "kernelspec": {
   "display_name": "Python 3",
   "language": "python",
   "name": "python3"
  },
  "language_info": {
   "codemirror_mode": {
    "name": "ipython",
    "version": 3
   },
   "file_extension": ".py",
   "mimetype": "text/x-python",
   "name": "python",
   "nbconvert_exporter": "python",
   "pygments_lexer": "ipython3",
   "version": "3.6.4"
  }
 },
 "nbformat": 4,
 "nbformat_minor": 2
}
