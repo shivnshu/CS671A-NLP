{
 "cells": [
  {
   "cell_type": "code",
   "execution_count": 1,
   "metadata": {},
   "outputs": [],
   "source": [
    "from __future__ import print_function\n",
    "import re"
   ]
  },
  {
   "cell_type": "code",
   "execution_count": 2,
   "metadata": {},
   "outputs": [],
   "source": [
    "# file = open(\"test.txt\", \"r\")\n",
    "file = open(\"A1.txt\", \"r\")\n",
    "rawText = file.read()"
   ]
  },
  {
   "cell_type": "code",
   "execution_count": 3,
   "metadata": {},
   "outputs": [],
   "source": [
    "p = re.compile(r\"'\")\n",
    "#p.findall(rawText)\n",
    "(modText, numRepla) = p.subn('\"', rawText)\n",
    "# print(modText, numRepla)"
   ]
  },
  {
   "cell_type": "code",
   "execution_count": 4,
   "metadata": {},
   "outputs": [
    {
     "data": {
      "text/plain": [
       "4"
      ]
     },
     "execution_count": 4,
     "metadata": {},
     "output_type": "execute_result"
    }
   ],
   "source": [
    "def replace(match):\n",
    "    if match.group('quote') not in [None, '']:\n",
    "        \n",
    "        start_all = match.start()\n",
    "        start = match.start('quote')\n",
    "        end = match.end('quote')\n",
    "        end_all = match.end()\n",
    "        return match.group()[0:start-start_all] + \"'\" + match.group()[end-start_all:end_all-start_all]\n",
    "    \n",
    "p = re.compile(r'\\w+(?P<quote>\")\\w+')\n",
    "p.findall(modText)\n",
    "(ansText1, numFinalRepla1) = p.subn(replace, modText)\n",
    "numFinalRepla1"
   ]
  },
  {
   "cell_type": "code",
   "execution_count": 5,
   "metadata": {},
   "outputs": [
    {
     "name": "stdout",
     "output_type": "stream",
     "text": [
      "Syme looked straight into his eyes and smiled sweetly.\n",
      "\n",
      "For the first time a red patch appeared on Gregory's forehead.\n",
      "\n",
      "\"I beg your pardon,\" said Syme grimly, \"I forgot we had abolished all conventions.\"\n",
      "\n",
      "\"You don't expect me,\" he said, \"to revolutionise society on this lawn ?\"\n",
      "\n",
      "\"Pull yourself together,\" said the Professor, \"or you'll get\n",
      "hysterical. Have some more beer. I'll join you.\"\n",
      "\n",
      "\"I am a policeman,\" said the Professor with his first broad smile. and beaming through his spectacles. \"But as you think policeman only a relative term, of course I have nothing to do with you. I am in the British police force; but as you tell me you are not in the British police force, I can only say that I met you in a dynamiters' club. I suppose I ought to arrest you.\"\n",
      "\n",
      "\"I tell you,\" went on Syme with passion, \"that every time a train comes in I feel that it has broken past batteries of besiegers, and that man has won a battle against chaos. And when I hear the guard shout out the word \"Victoria,\" it is not an unmeaning word.  It is to me indeed 'Victoria'; it is the victory of Adam.\"\n",
      "\n",
      "\n",
      "\n",
      "\n",
      "\n"
     ]
    }
   ],
   "source": [
    "p = re.compile(r'(?P<quote>\")[\\w]+[\\w\\s]*\"')\n",
    "(ansText2, numFinalRepla2) = p.subn(replace, ansText1)\n",
    "p = re.compile(r'[\\w]+(?P<quote>\")')\n",
    "(ansText, numFinalRepla3) = p.subn(replace, ansText2)\n",
    "print(ansText)"
   ]
  }
 ],
 "metadata": {
  "kernelspec": {
   "display_name": "Python 3",
   "language": "python",
   "name": "python3"
  },
  "language_info": {
   "codemirror_mode": {
    "name": "ipython",
    "version": 3
   },
   "file_extension": ".py",
   "mimetype": "text/x-python",
   "name": "python",
   "nbconvert_exporter": "python",
   "pygments_lexer": "ipython3",
   "version": "3.6.4"
  }
 },
 "nbformat": 4,
 "nbformat_minor": 2
}
