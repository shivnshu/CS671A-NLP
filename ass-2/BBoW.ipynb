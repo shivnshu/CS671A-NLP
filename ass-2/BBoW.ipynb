{
 "cells": [
  {
   "cell_type": "code",
   "execution_count": 2,
   "metadata": {},
   "outputs": [],
   "source": [
    "from sklearn.datasets import load_svmlight_file"
   ]
  },
  {
   "cell_type": "markdown",
   "metadata": {},
   "source": [
    "## Load Dataset"
   ]
  },
  {
   "cell_type": "code",
   "execution_count": 3,
   "metadata": {},
   "outputs": [
    {
     "data": {
      "text/plain": [
       "<25000x89527 sparse matrix of type '<class 'numpy.float64'>'\n",
       "\twith 3456685 stored elements in Compressed Sparse Row format>"
      ]
     },
     "execution_count": 3,
     "metadata": {},
     "output_type": "execute_result"
    }
   ],
   "source": [
    "train_dataset, train_labels = load_svmlight_file('aclImdb/train/labeledBow.feat', 89527)\n",
    "test_dataset, test_labels = load_svmlight_file('aclImdb/test/labeledBow.feat', 89527)\n",
    "\n",
    "train_dataset[train_dataset>0] = 1\n",
    "for i in range(len(train_labels)):\n",
    "    train_labels[i] = 1 if train_labels[i] > 5 else -1\n",
    "\n",
    "test_dataset[test_dataset>0] = 1\n",
    "for i in range(len(test_labels)):\n",
    "    test_labels[i] = 1 if test_labels[i] > 5 else -1\n",
    "train_dataset"
   ]
  },
  {
   "cell_type": "code",
   "execution_count": 3,
   "metadata": {},
   "outputs": [],
   "source": [
    "def saveOutput(filename, filedata):\n",
    "    with open('output/'+filename, 'w') as f:\n",
    "        for c in filedata:\n",
    "            print(c, file=f)"
   ]
  },
  {
   "cell_type": "markdown",
   "metadata": {},
   "source": [
    "## Naive Bayes"
   ]
  },
  {
   "cell_type": "code",
   "execution_count": 4,
   "metadata": {},
   "outputs": [
    {
     "name": "stdout",
     "output_type": "stream",
     "text": [
      "Naive Bayes Accuracy: 82.992%\n"
     ]
    }
   ],
   "source": [
    "from sklearn.naive_bayes import MultinomialNB\n",
    "\n",
    "clf = MultinomialNB().fit(train_dataset, train_labels)\n",
    "# print(dir(clf))\n",
    "predicted = clf.predict(test_dataset)\n",
    "# print(predicted)\n",
    "hit = 0\n",
    "for i in range(len(test_labels)):\n",
    "    hit += 1 if predicted[i] == test_labels[i] else 0\n",
    "\n",
    "print(\"Naive Bayes Accuracy: \" + str(hit*100/len(test_labels)) + \"%\")\n",
    "saveOutput('BBoW_NaiveBayes.txt', predicted)"
   ]
  },
  {
   "cell_type": "markdown",
   "metadata": {},
   "source": [
    "## Logistic regression"
   ]
  },
  {
   "cell_type": "code",
   "execution_count": 5,
   "metadata": {},
   "outputs": [
    {
     "name": "stdout",
     "output_type": "stream",
     "text": [
      "Logistic Regression Accuracy: 86.972%\n"
     ]
    }
   ],
   "source": [
    "from sklearn.linear_model import LogisticRegression\n",
    "\n",
    "clf = LogisticRegression().fit(train_dataset, train_labels)\n",
    "# print(dir(clf))\n",
    "predicted = clf.predict(test_dataset)\n",
    "# print(predicted)\n",
    "hit = 0\n",
    "for i in range(len(test_labels)):\n",
    "    hit += 1 if predicted[i] == test_labels[i] else 0\n",
    "\n",
    "print(\"Logistic Regression Accuracy: \" + str(hit*100/len(test_labels)) + \"%\")\n",
    "saveOutput('BBoW_LR.txt', predicted)"
   ]
  },
  {
   "cell_type": "markdown",
   "metadata": {},
   "source": [
    "## SVM"
   ]
  },
  {
   "cell_type": "code",
   "execution_count": null,
   "metadata": {},
   "outputs": [
    {
     "name": "stdout",
     "output_type": "stream",
     "text": [
      "SVM Accuracy: 85.272%\n"
     ]
    }
   ],
   "source": [
    "from sklearn.svm import LinearSVC\n",
    "\n",
    "clf = LinearSVC()\n",
    "clf.fit(train_dataset, train_labels)\n",
    "predicted = clf.predict(test_dataset)\n",
    "# print(predicted)\n",
    "hit = 0\n",
    "for i in range(len(test_labels)):\n",
    "    hit += 1 if predicted[i] == test_labels[i] else 0\n",
    "\n",
    "print(\"SVM Accuracy: \" + str(hit*100/len(test_labels)) + \"%\")\n",
    "saveOutput('BBoW_SVM.txt', predicted)"
   ]
  },
  {
   "cell_type": "markdown",
   "metadata": {},
   "source": [
    "## Feed Forward Neural Network"
   ]
  },
  {
   "cell_type": "code",
   "execution_count": null,
   "metadata": {},
   "outputs": [],
   "source": [
    "from sklearn.neural_network import MLPClassifier\n",
    "\n",
    "clf = MLPClassifier(solver='lbfgs', alpha=1e-5, hidden_layer_sizes=(10,), random_state=1)\n",
    "clf.fit(train_dataset, train_labels)\n",
    "predicted = clf.predict(test_dataset)\n",
    "# print(predicted)\n",
    "hit = 0\n",
    "for i in range(len(test_labels)):\n",
    "    hit += 1 if predicted[i] == test_labels[i] else 0\n",
    "\n",
    "print(\"Feed Forward Neural Network Accuracy: \" + str(hit*100/len(test_labels)) + \"%\")\n",
    "saveOutput('BBoW_FFNN.txt', predicted)"
   ]
  }
 ],
 "metadata": {
  "kernelspec": {
   "display_name": "Python 3",
   "language": "python",
   "name": "python3"
  },
  "language_info": {
   "codemirror_mode": {
    "name": "ipython",
    "version": 3
   },
   "file_extension": ".py",
   "mimetype": "text/x-python",
   "name": "python",
   "nbconvert_exporter": "python",
   "pygments_lexer": "ipython3",
   "version": "3.6.4"
  }
 },
 "nbformat": 4,
 "nbformat_minor": 2
}
