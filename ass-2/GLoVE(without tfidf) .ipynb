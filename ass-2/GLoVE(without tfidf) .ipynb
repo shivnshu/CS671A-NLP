{
 "cells": [
  {
   "cell_type": "code",
   "execution_count": 1,
   "metadata": {},
   "outputs": [],
   "source": [
    "from sklearn.datasets import load_svmlight_file\n",
    "import numpy as np\n",
    "import gensim"
   ]
  },
  {
   "cell_type": "markdown",
   "metadata": {},
   "source": [
    "## Load Database"
   ]
  },
  {
   "cell_type": "code",
   "execution_count": 2,
   "metadata": {},
   "outputs": [],
   "source": [
    "train_dataset, train_labels = load_svmlight_file('aclImdb/train/labeledBow.feat', 89527)\n",
    "test_dataset, test_labels = load_svmlight_file('aclImdb/test/labeledBow.feat', 89527)\n",
    "\n",
    "for i in range(len(train_labels)):\n",
    "    train_labels[i] = 1 if train_labels[i] > 5 else -1\n",
    "\n",
    "for i in range(len(test_labels)):\n",
    "    test_labels[i] = 1 if test_labels[i] > 5 else -1\n",
    "    \n",
    "num_train = train_dataset.shape[0]\n",
    "num_test = test_dataset.shape[0]"
   ]
  },
  {
   "cell_type": "code",
   "execution_count": 3,
   "metadata": {},
   "outputs": [],
   "source": [
    "def saveOutput(filename, filedata):\n",
    "    with open('output/'+filename, 'w') as f:\n",
    "        for c in filedata:\n",
    "            print(c, file=f)"
   ]
  },
  {
   "cell_type": "markdown",
   "metadata": {},
   "source": [
    "## Load pre-trained model"
   ]
  },
  {
   "cell_type": "code",
   "execution_count": 4,
   "metadata": {},
   "outputs": [],
   "source": [
    "# from gensim.scripts import glove2word2vec\n",
    "\n",
    "# glove2word2vec('glove.6B/glove.6B.300d.txt', 'glove.6B/glove.6B.300d.txt.word2vec')"
   ]
  },
  {
   "cell_type": "code",
   "execution_count": 5,
   "metadata": {},
   "outputs": [],
   "source": [
    "model = gensim.models.KeyedVectors.load_word2vec_format('glove.6B/glove.6B.300d.txt.word2vec', binary=False)"
   ]
  },
  {
   "cell_type": "markdown",
   "metadata": {},
   "source": [
    "### GLoVE without TF-IDF"
   ]
  },
  {
   "cell_type": "code",
   "execution_count": 6,
   "metadata": {},
   "outputs": [],
   "source": [
    "VocabFile  = 'aclImdb/imdb.vocab'\n",
    "vocab = open(VocabFile,'r') \n",
    "dicti = vocab.readlines()\n",
    "dicti = [item.strip() for item in dicti]\n",
    "num_model = model.vector_size\n",
    "\n",
    "xtr ,ytr = train_dataset.nonzero()\n",
    "train_dataset_tmp = np.zeros(shape=(num_train, num_model))\n",
    "rowindex = train_dataset.indptr\n",
    "\n",
    "for i in range(num_train):\n",
    "    for j in range(rowindex[i],rowindex[i+1]-1):\n",
    "        word = dicti[ytr[j]]\n",
    "        if word in model.vocab:\n",
    "            train_dataset_tmp[i] += model.wv[word]\n",
    "            \n",
    "    train_dataset_tmp[i] /= rowindex[i+1] - rowindex[i]\n",
    "\n",
    "xts, yts = test_dataset.nonzero()\n",
    "test_dataset_tmp = np.zeros(shape=(num_test, num_model))\n",
    "rowindex = test_dataset.indptr\n",
    "\n",
    "for i in range(num_test):\n",
    "    for j in range(rowindex[i],rowindex[i+1]-1):\n",
    "        word = dicti[yts[j]]\n",
    "        if word in model.vocab:\n",
    "            test_dataset_tmp[i] += model.wv[word]\n",
    "    test_dataset_tmp[i] /= rowindex[i+1] - rowindex[i]\n",
    "\n",
    "train_dataset = train_dataset_tmp\n",
    "test_dataset = test_dataset_tmp  "
   ]
  },
  {
   "cell_type": "markdown",
   "metadata": {},
   "source": [
    "## Logistic Regression"
   ]
  },
  {
   "cell_type": "code",
   "execution_count": 7,
   "metadata": {},
   "outputs": [
    {
     "name": "stdout",
     "output_type": "stream",
     "text": [
      "Logistic Regression Accuracy: 83.532%\n"
     ]
    }
   ],
   "source": [
    "from sklearn.linear_model import LogisticRegression\n",
    "\n",
    "clf = LogisticRegression().fit(train_dataset, train_labels)\n",
    "# print(dir(clf))\n",
    "predicted = clf.predict(test_dataset)\n",
    "# print(predicted)\n",
    "hit = 0\n",
    "for i in range(len(test_labels)):\n",
    "    hit += 1 if predicted[i] == test_labels[i] else 0\n",
    "\n",
    "print(\"Logistic Regression Accuracy: \" + str(hit*100/len(test_labels)) + \"%\")\n",
    "saveOutput('GLoVE(without_tfidf)_LR.txt', predicted)"
   ]
  },
  {
   "cell_type": "markdown",
   "metadata": {},
   "source": [
    "## SVM"
   ]
  },
  {
   "cell_type": "code",
   "execution_count": 8,
   "metadata": {},
   "outputs": [
    {
     "name": "stdout",
     "output_type": "stream",
     "text": [
      "SVM Accuracy: 83.98%\n"
     ]
    }
   ],
   "source": [
    "from sklearn.svm import LinearSVC\n",
    "\n",
    "clf = LinearSVC()\n",
    "clf.fit(train_dataset, train_labels)\n",
    "predicted = clf.predict(test_dataset)\n",
    "# print(predicted)\n",
    "hit = 0\n",
    "for i in range(len(test_labels)):\n",
    "    hit += 1 if predicted[i] == test_labels[i] else 0\n",
    "\n",
    "print(\"SVM Accuracy: \" + str(hit*100/len(test_labels)) + \"%\")\n",
    "saveOutput('GLoVE(without_tfidf)_SVM.txt', predicted)"
   ]
  },
  {
   "cell_type": "markdown",
   "metadata": {},
   "source": [
    "## Feed Forward Neural Network"
   ]
  },
  {
   "cell_type": "code",
   "execution_count": 9,
   "metadata": {},
   "outputs": [
    {
     "name": "stdout",
     "output_type": "stream",
     "text": [
      "Feed Forward Neural Network Accuracy: 83.836%\n"
     ]
    }
   ],
   "source": [
    "from sklearn.neural_network import MLPClassifier\n",
    "\n",
    "clf = MLPClassifier(solver='lbfgs', alpha=1e-5, hidden_layer_sizes=(10,), random_state=1)\n",
    "clf.fit(train_dataset, train_labels)\n",
    "predicted = clf.predict(test_dataset)\n",
    "# print(predicted)\n",
    "hit = 0\n",
    "for i in range(len(test_labels)):\n",
    "    hit += 1 if predicted[i] == test_labels[i] else 0\n",
    "\n",
    "print(\"Feed Forward Neural Network Accuracy: \" + str(hit*100/len(test_labels)) + \"%\")\n",
    "saveOutput('GLoVE(without_tfidf)_FFNN.txt', predicted)"
   ]
  }
 ],
 "metadata": {
  "kernelspec": {
   "display_name": "Python 3",
   "language": "python",
   "name": "python3"
  },
  "language_info": {
   "codemirror_mode": {
    "name": "ipython",
    "version": 3
   },
   "file_extension": ".py",
   "mimetype": "text/x-python",
   "name": "python",
   "nbconvert_exporter": "python",
   "pygments_lexer": "ipython3",
   "version": "3.6.4"
  }
 },
 "nbformat": 4,
 "nbformat_minor": 2
}
