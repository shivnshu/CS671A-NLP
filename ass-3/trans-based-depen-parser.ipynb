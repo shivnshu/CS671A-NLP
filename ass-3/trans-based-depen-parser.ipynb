{
 "cells": [
  {
   "cell_type": "code",
   "execution_count": 49,
   "metadata": {},
   "outputs": [],
   "source": [
    "import torch"
   ]
  },
  {
   "cell_type": "markdown",
   "metadata": {},
   "source": [
    "## Load Dataset"
   ]
  },
  {
   "cell_type": "code",
   "execution_count": 52,
   "metadata": {},
   "outputs": [],
   "source": [
    "dataset_file = \"UD_English-EWT/en_ewt-ud-train.conllu\"\n",
    "lines = open(dataset_file, \"r\").readlines()\n",
    "# lines"
   ]
  },
  {
   "cell_type": "code",
   "execution_count": 97,
   "metadata": {
    "scrolled": true
   },
   "outputs": [],
   "source": [
    "sentence_word = []\n",
    "sentences_word = []\n",
    "\n",
    "sentence_head_id = []\n",
    "sentences_head_id = []\n",
    "\n",
    "sentence_pos = []\n",
    "sentences_pos = []\n",
    "\n",
    "sentence_deprel = []\n",
    "sentences_deprel = []\n",
    "\n",
    "for line in lines:\n",
    "    l = line.split()\n",
    "    if len(l) > 0 and (l[0].isdigit()):\n",
    "        sentence_word.append(l[1])\n",
    "        sentence_head_id.append(int(l[6]))\n",
    "        sentence_pos.append(l[3])\n",
    "        sentence_deprel.append(l[7])\n",
    "    if len(l) == 0:\n",
    "        sentences_word.append(sentence_word)\n",
    "        sentence_word = []\n",
    "        sentences_head_id.append(sentence_head_id)\n",
    "        sentence_head_id = []\n",
    "        sentences_pos.append(sentence_pos)\n",
    "        sentence_pos = []\n",
    "        sentences_deprel.append(sentence_deprel)\n",
    "        sentence_deprel = []\n",
    "    \n",
    "# sentences_word\n",
    "# sentences_head_id\n",
    "# sentences_pos[0]\n",
    "# sentences_deprel[0]"
   ]
  },
  {
   "cell_type": "code",
   "execution_count": 102,
   "metadata": {},
   "outputs": [
    {
     "name": "stdout",
     "output_type": "stream",
     "text": [
      "[0, 1, 2] [3, 4, 5, 6, 7, 8, 9, 10, 11, 12, 13, 14, 15, 16, 17, 18, 19, 20, 21, 22, 23, 24, 25, 26, 27, 28, 29, 30, 31] []\n",
      "[0, 1, 2, 3] [4, 5, 6, 7, 8, 9, 10, 11, 12, 13, 14, 15, 16, 17, 18, 19, 20, 21, 22, 23, 24, 25, 26, 27, 28, 29, 30, 31] []\n",
      "[0, 1, 2, 3, 4] [5, 6, 7, 8, 9, 10, 11, 12, 13, 14, 15, 16, 17, 18, 19, 20, 21, 22, 23, 24, 25, 26, 27, 28, 29, 30, 31] []\n",
      "[0, 1, 2, 3, 4, 5] [6, 7, 8, 9, 10, 11, 12, 13, 14, 15, 16, 17, 18, 19, 20, 21, 22, 23, 24, 25, 26, 27, 28, 29, 30, 31] []\n",
      "[0, 1, 2, 3, 4, 5, 6] [7, 8, 9, 10, 11, 12, 13, 14, 15, 16, 17, 18, 19, 20, 21, 22, 23, 24, 25, 26, 27, 28, 29, 30, 31] []\n",
      "[0, 1, 2, 3, 4, 5] [6, 8, 9, 10, 11, 12, 13, 14, 15, 16, 17, 18, 19, 20, 21, 22, 23, 24, 25, 26, 27, 28, 29, 30, 31] [(7, 'amod', 6)]\n",
      "[0, 1, 2, 3, 4, 5, 6] [8, 9, 10, 11, 12, 13, 14, 15, 16, 17, 18, 19, 20, 21, 22, 23, 24, 25, 26, 27, 28, 29, 30, 31] [(7, 'amod', 6)]\n",
      "[0, 1, 2, 3, 4, 5, 6, 8] [9, 10, 11, 12, 13, 14, 15, 16, 17, 18, 19, 20, 21, 22, 23, 24, 25, 26, 27, 28, 29, 30, 31] [(7, 'amod', 6)]\n",
      "[0, 1, 2, 3, 4, 5, 6, 8, 9] [10, 11, 12, 13, 14, 15, 16, 17, 18, 19, 20, 21, 22, 23, 24, 25, 26, 27, 28, 29, 30, 31] [(7, 'amod', 6)]\n",
      "[0, 1, 2, 3, 4, 5, 6, 8, 9, 10] [11, 12, 13, 14, 15, 16, 17, 18, 19, 20, 21, 22, 23, 24, 25, 26, 27, 28, 29, 30, 31] [(7, 'amod', 6)]\n",
      "[0, 1, 2, 3, 4, 5, 6, 8, 9, 10, 11] [12, 13, 14, 15, 16, 17, 18, 19, 20, 21, 22, 23, 24, 25, 26, 27, 28, 29, 30, 31] [(7, 'amod', 6)]\n",
      "[0, 1, 2, 3, 4, 5, 6, 8, 9, 10, 11, 12] [13, 14, 15, 16, 17, 18, 19, 20, 21, 22, 23, 24, 25, 26, 27, 28, 29, 30, 31] [(7, 'amod', 6)]\n",
      "[0, 1, 2, 3, 4, 5, 6, 8, 9, 10, 11, 12, 13] [14, 15, 16, 17, 18, 19, 20, 21, 22, 23, 24, 25, 26, 27, 28, 29, 30, 31] [(7, 'amod', 6)]\n",
      "[0, 1, 2, 3, 4, 5, 6, 8, 9, 10, 11, 12, 13, 14] [15, 16, 17, 18, 19, 20, 21, 22, 23, 24, 25, 26, 27, 28, 29, 30, 31] [(7, 'amod', 6)]\n",
      "[0, 1, 2, 3, 4, 5, 6, 8, 9, 10, 11, 12, 13, 14, 15] [16, 17, 18, 19, 20, 21, 22, 23, 24, 25, 26, 27, 28, 29, 30, 31] [(7, 'amod', 6)]\n",
      "[0, 1, 2, 3, 4, 5, 6, 8, 9, 10, 11, 12, 13, 14] [15, 17, 18, 19, 20, 21, 22, 23, 24, 25, 26, 27, 28, 29, 30, 31] [(7, 'amod', 6), (16, 'det', 15)]\n",
      "[0, 1, 2, 3, 4, 5, 6, 8, 9, 10, 11, 12, 13, 14, 15] [17, 18, 19, 20, 21, 22, 23, 24, 25, 26, 27, 28, 29, 30, 31] [(7, 'amod', 6), (16, 'det', 15)]\n",
      "[0, 1, 2, 3, 4, 5, 6, 8, 9, 10, 11, 12, 13, 14, 15, 17] [18, 19, 20, 21, 22, 23, 24, 25, 26, 27, 28, 29, 30, 31] [(7, 'amod', 6), (16, 'det', 15)]\n",
      "[0, 1, 2, 3, 4, 5, 6, 8, 9, 10, 11, 12, 13, 14, 15, 17, 18] [19, 20, 21, 22, 23, 24, 25, 26, 27, 28, 29, 30, 31] [(7, 'amod', 6), (16, 'det', 15)]\n",
      "[0, 1, 2, 3, 4, 5, 6, 8, 9, 10, 11, 12, 13, 14, 15, 17] [18, 20, 21, 22, 23, 24, 25, 26, 27, 28, 29, 30, 31] [(7, 'amod', 6), (16, 'det', 15), (19, 'det', 18)]\n",
      "[0, 1, 2, 3, 4, 5, 6, 8, 9, 10, 11, 12, 13, 14, 15, 17, 18] [20, 21, 22, 23, 24, 25, 26, 27, 28, 29, 30, 31] [(7, 'amod', 6), (16, 'det', 15), (19, 'det', 18)]\n",
      "[0, 1, 2, 3, 4, 5, 6, 8, 9, 10, 11, 12, 13, 14, 15, 17, 18, 20] [21, 22, 23, 24, 25, 26, 27, 28, 29, 30, 31] [(7, 'amod', 6), (16, 'det', 15), (19, 'det', 18)]\n",
      "[0, 1, 2, 3, 4, 5, 6, 8, 9, 10, 11, 12, 13, 14, 15, 17, 18, 20, 21] [22, 23, 24, 25, 26, 27, 28, 29, 30, 31] [(7, 'amod', 6), (16, 'det', 15), (19, 'det', 18)]\n",
      "[0, 1, 2, 3, 4, 5, 6, 8, 9, 10, 11, 12, 13, 14, 15, 17, 18, 20] [21, 23, 24, 25, 26, 27, 28, 29, 30, 31] [(7, 'amod', 6), (16, 'det', 15), (19, 'det', 18), (22, 'det', 21)]\n",
      "[0, 1, 2, 3, 4, 5, 6, 8, 9, 10, 11, 12, 13, 14, 15, 17, 18, 20, 21] [23, 24, 25, 26, 27, 28, 29, 30, 31] [(7, 'amod', 6), (16, 'det', 15), (19, 'det', 18), (22, 'det', 21)]\n",
      "[0, 1, 2, 3, 4, 5, 6, 8, 9, 10, 11, 12, 13, 14, 15, 17, 18, 20, 21, 23] [24, 25, 26, 27, 28, 29, 30, 31] [(7, 'amod', 6), (16, 'det', 15), (19, 'det', 18), (22, 'det', 21)]\n",
      "[0, 1, 2, 3, 4, 5, 6, 8, 9, 10, 11, 12, 13, 14, 15, 17, 18, 20, 21] [23, 25, 26, 27, 28, 29, 30, 31] [(7, 'amod', 6), (16, 'det', 15), (19, 'det', 18), (22, 'det', 21), (24, 'case', 23)]\n",
      "[0, 1, 2, 3, 4, 5, 6, 8, 9, 10, 11, 12, 13, 14, 15, 17, 18, 20, 21, 23] [25, 26, 27, 28, 29, 30, 31] [(7, 'amod', 6), (16, 'det', 15), (19, 'det', 18), (22, 'det', 21), (24, 'case', 23)]\n",
      "[0, 1, 2, 3, 4, 5, 6, 8, 9, 10, 11, 12, 13, 14, 15, 17, 18, 20, 21, 23, 25] [26, 27, 28, 29, 30, 31] [(7, 'amod', 6), (16, 'det', 15), (19, 'det', 18), (22, 'det', 21), (24, 'case', 23)]\n",
      "[0, 1, 2, 3, 4, 5, 6, 8, 9, 10, 11, 12, 13, 14, 15, 17, 18, 20, 21, 23, 25, 26] [27, 28, 29, 30, 31] [(7, 'amod', 6), (16, 'det', 15), (19, 'det', 18), (22, 'det', 21), (24, 'case', 23)]\n",
      "[0, 1, 2, 3, 4, 5, 6, 8, 9, 10, 11, 12, 13, 14, 15, 17, 18, 20, 21, 23, 25, 26, 27] [28, 29, 30, 31] [(7, 'amod', 6), (16, 'det', 15), (19, 'det', 18), (22, 'det', 21), (24, 'case', 23)]\n",
      "[0, 1, 2, 3, 4, 5, 6, 8, 9, 10, 11, 12, 13, 14, 15, 17, 18, 20, 21, 23, 25, 26, 27, 28] [29, 30, 31] [(7, 'amod', 6), (16, 'det', 15), (19, 'det', 18), (22, 'det', 21), (24, 'case', 23), (27, 'case', 28)]\n"
     ]
    }
   ],
   "source": [
    "def check_no_child(stack, buffer, iden):\n",
    "    return True\n",
    "\n",
    "for i in range(len(sentences_word)):\n",
    "#     print(sentences_word[i], sentences_head_id[i])\n",
    "\n",
    "    sentence_word = sentences_word[i]\n",
    "    sentence_word.insert(0, 'ROOT')\n",
    "    sentence_head_id = sentences_head_id[i]\n",
    "    sentence_head_id.insert(0, -1)\n",
    "    sentence_pos = sentences_pos[i]\n",
    "    sentence_pos.insert(0, 'ROOT-POS')\n",
    "    sentence_deprel = sentences_deprel[i]\n",
    "    sentence_deprel.insert(0, 'RROOT')\n",
    "\n",
    "    sentence_indices = list(range(len(sentence_word)))\n",
    "    stack = [0, 1] # 'ROOT' -> 0\n",
    "    buffer = list(range(2, len(sentence_word))) # indices of all words\n",
    "    tree = []\n",
    "    for j in range(len(sentence_word)):\n",
    "        head_id_stack_right = sentence_head_id[stack[-1]]\n",
    "        head_id_buffer_left = sentence_head_id[buffer[0]]\n",
    "        \n",
    "        if (head_id_stack_right == buffer[0]):\n",
    "            tree.append((stack[-1], sentence_deprel[stack[-1]], buffer[0])) # add stack[-1] to tree\n",
    "            stack.append(buffer.pop(0)) # left arc\n",
    "        \n",
    "        elif (head_id_buffer_left == stack[-1]):\n",
    "            if (check_no_child(stack, buffer, sentence_head_id[buffer[0]])):\n",
    "                tree.append((buffer[0], sentence_deprel[buffer[0]], stack[-1])) # add buffer[0] to tree\n",
    "                buffer[0] = stack.pop(-1) # right arc\n",
    "                \n",
    "        else:\n",
    "            stack.append(buffer.pop(0)) # shift\n",
    "        \n",
    "        print(stack, buffer, tree)\n",
    "#         break\n",
    "    break"
   ]
  },
  {
   "cell_type": "markdown",
   "metadata": {},
   "source": [
    "## Load pre-trained model"
   ]
  },
  {
   "cell_type": "code",
   "execution_count": 72,
   "metadata": {},
   "outputs": [
    {
     "data": {
      "text/plain": [
       "(400000, 50)"
      ]
     },
     "execution_count": 72,
     "metadata": {},
     "output_type": "execute_result"
    }
   ],
   "source": [
    "# from gensim.scripts import glove2word2vec\n",
    "\n",
    "# glove2word2vec.glove2word2vec('glove.6B/glove.6B.50d.txt', 'glove.6B/glove.6B.50d.txt.word2vec')"
   ]
  }
 ],
 "metadata": {
  "kernelspec": {
   "display_name": "Python 3",
   "language": "python",
   "name": "python3"
  },
  "language_info": {
   "codemirror_mode": {
    "name": "ipython",
    "version": 3
   },
   "file_extension": ".py",
   "mimetype": "text/x-python",
   "name": "python",
   "nbconvert_exporter": "python",
   "pygments_lexer": "ipython3",
   "version": "3.6.5"
  }
 },
 "nbformat": 4,
 "nbformat_minor": 2
}
